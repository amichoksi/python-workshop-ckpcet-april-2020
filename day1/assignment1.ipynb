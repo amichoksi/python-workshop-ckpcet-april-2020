{
 "cells": [
  {
   "cell_type": "code",
   "execution_count": null,
   "metadata": {},
   "outputs": [],
   "source": [
    "# Problem: Write a code that takes number from user and print if number is even or odd    [2 Points]"
   ]
  },
  {
   "cell_type": "code",
   "execution_count": null,
   "metadata": {},
   "outputs": [],
   "source": [
    "# Problem: Write a code to print numbers divisible by given number in given range  [3 Points]\n",
    "def give_divisible(start_number, end_number, divider):\n",
    "    # TODO: write code\n",
    "    return\n",
    "\n",
    "assert give_divisible(1, 10, 2) == [2, 4, 6, 8]\n",
    "assert give_divisible(3, 16, 3) == [3, 6, 9, 12, 15]\n",
    "assert give_divisible(1, 5, 7) == []"
   ]
  },
  {
   "cell_type": "code",
   "execution_count": null,
   "metadata": {},
   "outputs": [],
   "source": [
    "# Problem: Write a code that counts even and odd numbers in list   [3 Points]\n",
    "def count_even_odd(numbers):\n",
    "    even_count = 0\n",
    "    odd_count = 0\n",
    "    # TODO count even odd in input number list\n",
    "    return even_count, odd_count\n",
    "\n",
    "assert count_even_odd([2, 3, 5, 6, 7]) == (2, 3)\n",
    "assert count_even_odd([17, 23, 65]) == (0, 3)\n",
    "assert count_even_odd([12, 4, 80]) == (3, 0)\n",
    "    "
   ]
  },
  {
   "cell_type": "code",
   "execution_count": null,
   "metadata": {},
   "outputs": [],
   "source": [
    "# Problem: write the code that slice the list in custom way for input range  [3 Points]\n",
    "def slice_my_list(start_index, end_index, input_list):\n",
    "    # TODO slice the list for provided start and end range with (start_index, end_index] interval rule. \n",
    "    return \n",
    "\n",
    "assert slice_my_list(2, 3, ['a', 1, 'ta', 23.5, 12, 0]) == [23.5]\n",
    "assert slice_my_list(1, 5, [13, 34, 'er', 3.6, 'v', 90]) == ['er', 3.6, 'v', 90]"
   ]
  },
  {
   "cell_type": "code",
   "execution_count": null,
   "metadata": {},
   "outputs": [],
   "source": [
    "# Problem: Merge two list  [2 Points]\n",
    "def merge_list(first_list, second_list):\n",
    "    # TODO: merge two list and return the final list\n",
    "    return \n",
    "\n",
    "assert merge_list(['a', '34', 89, 2.3], ['b', '67']) == ['a', '34', 89, 2.3, 'b', '67']"
   ]
  },
  {
   "cell_type": "code",
   "execution_count": null,
   "metadata": {},
   "outputs": [],
   "source": [
    "# Problem: Filter the list of elements for integers  [3 Points]\n",
    "def filter_integer(input_list):\n",
    "    result = []\n",
    "    # TODO: filter the input elements for integers and return them\n",
    "    return result\n",
    "\n",
    "assert filter_integer([12, 'hi', 3.45, 2, 4.5, 'Surat']) == [12, 2]\n",
    "assert filter_integer(['st', 5.6, 78.3]) == []\n",
    "assert filter_integer([56, 32, 12]) == [56, 32, 12]"
   ]
  },
  {
   "cell_type": "code",
   "execution_count": null,
   "metadata": {},
   "outputs": [],
   "source": [
    "# Problem: Returns the dictionary of words and their frequency in input string [7 Points]\n",
    "def get_word_count(input_string):\n",
    "    result = dict()\n",
    "    # TODO:implement word count\n",
    "    return result\n",
    "\n",
    "assert get_word_count(\"hi hello hi i\") == {\"hi\": 2, \"hello\": 1, \"i\": 1}"
   ]
  }
 ],
 "metadata": {
  "kernelspec": {
   "display_name": "Python 3",
   "language": "python",
   "name": "python3"
  },
  "language_info": {
   "codemirror_mode": {
    "name": "ipython",
    "version": 3
   },
   "file_extension": ".py",
   "mimetype": "text/x-python",
   "name": "python",
   "nbconvert_exporter": "python",
   "pygments_lexer": "ipython3",
   "version": "3.6.9"
  }
 },
 "nbformat": 4,
 "nbformat_minor": 4
}
